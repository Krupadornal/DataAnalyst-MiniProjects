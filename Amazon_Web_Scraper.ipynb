{
  "cells": [
    {
      "cell_type": "code",
      "execution_count": 2,
      "metadata": {
        "colab": {
          "base_uri": "https://localhost:8080/"
        },
        "id": "DohV2WLToDJy",
        "outputId": "bc6c9d5f-68c4-44df-ae61-1216dc8b2610"
      },
      "outputs": [
        {
          "output_type": "stream",
          "name": "stdout",
          "text": [
            "Title: Funny Got Data MIS Data Systems Business Analyst T-Shirt\n",
            "Prices found: ['16..99', '19..99', '19..99', '22..99', '31..99', '33..99', '31..99', '21..99', '21..99']\n",
            "Selected Price: 16..99\n"
          ]
        }
      ],
      "source": [
        "from bs4 import BeautifulSoup\n",
        "import requests\n",
        "\n",
        "# Connect to Website\n",
        "URL = 'https://www.amazon.com/Funny-Data-Systems-Business-Analyst/dp/B07FNW9FGJ'\n",
        "\n",
        "headers = {\n",
        "    \"User-Agent\": \"Mozilla/5.0 (Windows NT 10.0; Win64; x64) AppleWebKit/537.36 (KHTML, like Gecko) Chrome/78.0.3904.108 Safari/537.36\",\n",
        "    \"Accept-Encoding\": \"gzip, deflate\",\n",
        "    \"Accept\": \"text/html,application/xhtml+xml,application/xml;q=0.9,*/*;q=0.8\",\n",
        "    \"DNT\": \"1\",\n",
        "    \"Connection\": \"close\",\n",
        "    \"Upgrade-Insecure-Requests\": \"1\"\n",
        "}\n",
        "\n",
        "page = requests.get(URL, headers=headers)\n",
        "\n",
        "soup = BeautifulSoup(page.content, \"html.parser\")\n",
        "\n",
        "# Attempt to find the title with different selectors\n",
        "title_element = soup.find('span', {'id': 'productTitle'})\n",
        "title = title_element.get_text().strip() if title_element else \"Title not found\"\n",
        "\n",
        "# Attempt to find all price elements\n",
        "price_whole = soup.find_all('span', {'class': 'a-price-whole'})\n",
        "price_fraction = soup.find_all('span', {'class': 'a-price-fraction'})\n",
        "\n",
        "prices = []\n",
        "for i in range(min(len(price_whole), len(price_fraction))):\n",
        "    whole = price_whole[i].get_text().strip()\n",
        "    fraction = price_fraction[i].get_text().strip()\n",
        "    prices.append(f\"{whole}.{fraction}\")\n",
        "\n",
        "# Print the extracted data\n",
        "print(f\"Title: {title}\")\n",
        "print(f\"Prices found: {prices}\")\n",
        "\n",
        "# Check if there's a consistent price, otherwise choose the first one\n",
        "if len(prices) > 0:\n",
        "    price = prices[0]  # This assumes the first found price is the one you want\n",
        "else:\n",
        "    price = \"Price not found\"\n",
        "\n",
        "print(f\"Selected Price: {price}\")\n"
      ]
    },
    {
      "cell_type": "code",
      "execution_count": 3,
      "metadata": {
        "colab": {
          "base_uri": "https://localhost:8080/"
        },
        "id": "uprccg4LRmvy",
        "outputId": "204a397c-85a0-4dd1-ceb5-7f0690514496"
      },
      "outputs": [
        {
          "output_type": "stream",
          "name": "stdout",
          "text": [
            "Funny Got Data MIS Data Systems Business Analyst T-Shirt\n",
            "6..99\n"
          ]
        }
      ],
      "source": [
        "price = price.strip()[1:]\n",
        "title = title.strip()\n",
        "\n",
        "print(title)\n",
        "print(price)"
      ]
    },
    {
      "cell_type": "code",
      "execution_count": 4,
      "metadata": {
        "colab": {
          "base_uri": "https://localhost:8080/"
        },
        "id": "KPHnEVLQRm6w",
        "outputId": "2cd1a112-0060-4c4e-efb1-8f75981d2027"
      },
      "outputs": [
        {
          "output_type": "stream",
          "name": "stdout",
          "text": [
            "2024-08-11\n"
          ]
        }
      ],
      "source": [
        "# Create a Timestamp for your output to track when data was collected\n",
        "\n",
        "import datetime\n",
        "\n",
        "today = datetime.date.today()\n",
        "\n",
        "print(today)"
      ]
    },
    {
      "cell_type": "code",
      "execution_count": 5,
      "metadata": {
        "id": "2YKG-wnuRnHJ"
      },
      "outputs": [],
      "source": [
        "import csv\n",
        "\n",
        "header = ['Title', 'Price', 'Date']\n",
        "data = [title, price, today]\n",
        "\n",
        "\n",
        "with open('AmazonWebScraperDataset.csv', 'w', newline='', encoding='UTF8') as f:\n",
        "    writer = csv.writer(f)\n",
        "    writer.writerow(header)\n",
        "    writer.writerow(data)\n"
      ]
    },
    {
      "cell_type": "code",
      "execution_count": 6,
      "metadata": {
        "colab": {
          "base_uri": "https://localhost:8080/"
        },
        "id": "jl3DA7QCRnTG",
        "outputId": "2a2c6d3f-cebf-4f99-b9d7-5bdad8745f4e"
      },
      "outputs": [
        {
          "output_type": "stream",
          "name": "stdout",
          "text": [
            "                                               Title  Price        Date\n",
            "0  Funny Got Data MIS Data Systems Business Analy...  6..99  2024-08-11\n"
          ]
        }
      ],
      "source": [
        "import pandas as pd\n",
        "\n",
        "df = pd.read_csv(r'/content/AmazonWebScraperDataset.csv')\n",
        "\n",
        "print(df)"
      ]
    },
    {
      "cell_type": "code",
      "execution_count": 7,
      "metadata": {
        "id": "yh3YKUmdRnfm"
      },
      "outputs": [],
      "source": [
        "with open('AmazonWebScraperDataset.csv', 'a+', newline='', encoding='UTF8') as f:\n",
        "    writer = csv.writer(f)\n",
        "    writer.writerow(data)\n"
      ]
    },
    {
      "cell_type": "code",
      "execution_count": 8,
      "metadata": {
        "id": "4BqezASiqYR-"
      },
      "outputs": [],
      "source": [
        "def check_price():\n",
        "    URL = 'https://www.amazon.com/Funny-Data-Systems-Business-Analyst/dp/B07FNW9FGJ/ref=sr_1_3?dchild=1&keywords=data%2Banalyst%2Btshirt&qid=1626655184&sr=8-3&customId=B0752XJYNL&th=1'\n",
        "\n",
        "    headers = {\"User-Agent\": \"Mozilla/5.0 (Windows NT 10.0; Win64; x64) AppleWebKit/537.36 (KHTML, like Gecko) Chrome/78.0.3904.108 Safari/537.36\", \"Accept-Encoding\":\"gzip, deflate\", \"Accept\":\"text/html,application/xhtml+xml,application/xml;q=0.9,*/*;q=0.8\", \"DNT\":\"1\",\"Connection\":\"close\", \"Upgrade-Insecure-Requests\":\"1\"}\n",
        "\n",
        "    page = requests.get(URL, headers=headers)\n",
        "\n",
        "    soup1 = BeautifulSoup(page.content, \"html.parser\")\n",
        "\n",
        "    soup2 = BeautifulSoup(soup1.prettify(), \"html.parser\")\n",
        "\n",
        "    title = soup2.find(id='productTitle').get_text()\n",
        "\n",
        "    price = soup2.find(id='priceblock_ourprice').get_text()\n",
        "\n",
        "    price = price.strip()[1:]\n",
        "    title = title.strip()\n",
        "\n",
        "    import datetime\n",
        "\n",
        "    today = datetime.date.today()\n",
        "\n",
        "    import csv\n",
        "\n",
        "    header = ['Title', 'Price', 'Date']\n",
        "    data = [title, price, today]\n",
        "\n",
        "    with open('AmazonWebScraperDataset.csv', 'a+', newline='', encoding='UTF8') as f:\n",
        "        writer = csv.writer(f)\n",
        "        writer.writerow(data)\n",
        "\n"
      ]
    },
    {
      "cell_type": "code",
      "execution_count": null,
      "metadata": {
        "colab": {
          "base_uri": "https://localhost:8080/"
        },
        "id": "KAVTxRm4qYXT",
        "outputId": "f18205d6-f52b-477d-c3f2-06c291f5be88"
      },
      "outputs": [
        {
          "output_type": "stream",
          "name": "stdout",
          "text": [
            "Title: Funny Got Data MIS Data Systems Business Analyst T-Shirt\n",
            "Price: Price not found\n"
          ]
        }
      ],
      "source": [
        "while(True):\n",
        "    check_price()\n",
        "    time.sleep(86400)\n",
        "\n",
        "\n"
      ]
    },
    {
      "cell_type": "code",
      "execution_count": 10,
      "metadata": {
        "id": "0YwJH0RCqYYE",
        "colab": {
          "base_uri": "https://localhost:8080/"
        },
        "outputId": "db16656e-ecfa-4aaa-e6db-a6b051431ffa"
      },
      "outputs": [
        {
          "output_type": "stream",
          "name": "stdout",
          "text": [
            "                                               Title  Price        Date\n",
            "0  Funny Got Data MIS Data Systems Business Analy...  6..99  2024-08-11\n",
            "1  Funny Got Data MIS Data Systems Business Analy...  6..99  2024-08-11\n"
          ]
        }
      ],
      "source": [
        "import pandas as pd\n",
        "\n",
        "df = pd.read_csv(r'/content/AmazonWebScraperDataset.csv')\n",
        "\n",
        "print(df)"
      ]
    }
  ],
  "metadata": {
    "colab": {
      "provenance": []
    },
    "kernelspec": {
      "display_name": "Python 3",
      "name": "python3"
    },
    "language_info": {
      "name": "python"
    }
  },
  "nbformat": 4,
  "nbformat_minor": 0
}