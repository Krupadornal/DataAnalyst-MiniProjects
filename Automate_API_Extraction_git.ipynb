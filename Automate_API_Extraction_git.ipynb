{
  "cells": [
    {
      "cell_type": "code",
      "execution_count": null,
      "metadata": {
        "id": "rq10PiO6drzE"
      },
      "outputs": [],
      "source": [
        "from requests import Request, Session\n",
        "from requests.exceptions import ConnectionError, Timeout, TooManyRedirects\n",
        "import json\n",
        "\n",
        "url = 'https://pro-api.coinmarketcap.com'\n",
        "#Original Sandbox Environment: 'https://sandbox-api.coinmarketcap.com/v1/cryptocurrency/listings/latest'\n",
        "parameters = {\n",
        "  'start':'1',\n",
        "  'limit':'15',\n",
        "  'convert':'USD'\n",
        "}\n",
        "headers = {\n",
        "  'Accepts': 'application/json',\n",
        "  'X-CMC_PRO_API_KEY': '4357a01e-b069-496d-a73f-6f2282b4b7b4',\n",
        "}\n",
        "\n",
        "session = Session()\n",
        "session.headers.update(headers)\n",
        "\n",
        "try:\n",
        "  response = session.get(url, params=parameters)\n",
        "  data = json.loads(response.text)\n",
        "  #print(data)\n",
        "except (ConnectionError, Timeout, TooManyRedirects) as e:\n",
        "  print(e)\n",
        "\n"
      ]
    },
    {
      "cell_type": "code",
      "execution_count": null,
      "metadata": {
        "colab": {
          "background_save": true
        },
        "id": "R5tIyyfrD4Gh"
      },
      "outputs": [],
      "source": [
        "from requests import Request, Session\n",
        "from requests.exceptions import ConnectionError, Timeout, TooManyRedirects\n",
        "import json\n",
        "\n",
        "url = 'https://pro-api.coinmarketcap.com/v1/cryptocurrency/listings/latest'\n",
        "parameters = {\n",
        "  'start':'1',\n",
        "  'limit':'5000',\n",
        "  'convert':'USD'\n",
        "}\n",
        "headers = {\n",
        "  'Accepts': 'application/json',\n",
        "  'X-CMC_PRO_API_KEY': '4357a01e-b069-496d-a73f-6f2282b4b7b4',\n",
        "}\n",
        "\n",
        "session = Session()\n",
        "session.headers.update(headers)\n",
        "\n",
        "try:\n",
        "  response = session.get(url, params=parameters)\n",
        "  data = json.loads(response.text)\n",
        "  print(data)\n",
        "except (ConnectionError, Timeout, TooManyRedirects) as e:\n",
        "  print(e)"
      ]
    },
    {
      "cell_type": "code",
      "execution_count": null,
      "metadata": {
        "colab": {
          "background_save": true
        },
        "id": "xMrmWeTeaNM-"
      },
      "outputs": [],
      "source": [
        "type(data)\n"
      ]
    },
    {
      "cell_type": "code",
      "execution_count": null,
      "metadata": {
        "colab": {
          "background_save": true
        },
        "id": "LDRxazzuaVjg"
      },
      "outputs": [],
      "source": [
        "\n",
        "status_data = data.get('status', {}).get('data', [])\n",
        "if status_data:\n",
        "    df = pd.json_normalize(status_data)\n",
        "\n"
      ]
    },
    {
      "cell_type": "code",
      "execution_count": null,
      "metadata": {
        "colab": {
          "background_save": true
        },
        "id": "aFcqo86paVuq"
      },
      "outputs": [],
      "source": [
        "import pandas as pd\n",
        "\n",
        "pd.set_option('display.max_columns', None)\n",
        "pd.set_option('display.max_rows', None)\n",
        "\n",
        "df = pd.json_normalize(data['data'])\n",
        "df['timestamp'] = pd.to_datetime('now')\n",
        "df"
      ]
    },
    {
      "cell_type": "code",
      "execution_count": null,
      "metadata": {
        "colab": {
          "background_save": true
        },
        "id": "oaemR9ydaVv6"
      },
      "outputs": [],
      "source": [
        "from requests import Request, Session\n",
        "from requests.exceptions import ConnectionError, Timeout, TooManyRedirects\n",
        "import json\n",
        "\n",
        "url = 'https://pro-api.coinmarketcap.com/v1/cryptocurrency/listings/latest'\n",
        "parameters = {\n",
        "  'start':'1',\n",
        "  'limit':'5000',\n",
        "  'convert':'USD'\n",
        "}\n",
        "headers = {\n",
        "  'Accepts': 'application/json',\n",
        "  'X-CMC_PRO_API_KEY': '4357a01e-b069-496d-a73f-6f2282b4b7b4',\n",
        "}\n",
        "\n",
        "session = Session()\n",
        "session.headers.update(headers)\n",
        "\n",
        "try:\n",
        "  response = session.get(url, params=parameters)\n",
        "  data = json.loads(response.text)\n",
        "  print(data)\n",
        "except (ConnectionError, Timeout, TooManyRedirects) as e:\n",
        "  print(e)\n",
        "\n",
        "  df = pd.json_normalize(data['data'])\n",
        "\n",
        "  df['timestamp'] = pd.to_datetime('now')\n",
        "    #df = df.append(df2)\n",
        "  df\n",
        "\n",
        "  if not os.path.isfile(r'C:\\Users\\krupa D.U\\Documents\\Python Scripts\\API.csv'):\n",
        "        df.to_csv(r'C:\\Users\\krupa D.U\\Documents\\Python Scripts\\API.csv', header='column_names')\n",
        "  else:\n",
        "        df.to_csv(r'C:C:\\Users\\krupa D.U\\Documents\\Python Scripts\\API.csv', mode='a', header=False)\n",
        "\n",
        "\n"
      ]
    },
    {
      "cell_type": "code",
      "execution_count": null,
      "metadata": {
        "id": "RmyTsAtiaV1d"
      },
      "outputs": [],
      "source": [
        "import pandas as pd\n",
        "import os\n",
        "from time import time, sleep\n",
        "\n",
        "def api_runner():\n",
        "\n",
        "\n",
        "    # Example DataFrame creation for demonstration purposes\n",
        "    data = {'data': [{'key1': 'value1', 'key2': 'value2'}]}\n",
        "\n",
        "    # Normalize the JSON data\n",
        "    df2 = pd.json_normalize(data['data'])\n",
        "    df2['timestamp'] = pd.to_datetime('now')\n",
        "\n",
        "    # Concatenate the DataFrame with itself (or with another DataFrame)\n",
        "    df2 = pd.concat([df2, df2])\n",
        "\n",
        "for i in range(333):\n",
        "    api_runner()\n",
        "    print('API Runner completed')\n",
        "    sleep(60)  # Sleep for 1 minute\n",
        "\n"
      ]
    },
    {
      "cell_type": "code",
      "execution_count": null,
      "metadata": {
        "id": "WQTah3M_mP_J"
      },
      "outputs": [],
      "source": [
        "pd.set_option('display.float_format', lambda x: '%.5f' % x)\n",
        "df"
      ]
    },
    {
      "cell_type": "code",
      "execution_count": null,
      "metadata": {
        "id": "b9q_NRLemQNJ"
      },
      "outputs": [],
      "source": [
        "df3 = df.groupby('name', sort=False)[['quote.USD.percent_change_1h','quote.USD.percent_change_24h','quote.USD.percent_change_7d','quote.USD.percent_change_30d','quote.USD.percent_change_60d','quote.USD.percent_change_90d']].mean()\n"
      ]
    },
    {
      "cell_type": "code",
      "execution_count": null,
      "metadata": {
        "id": "WHMVNXGYQDbL"
      },
      "outputs": [],
      "source": [
        "df3"
      ]
    },
    {
      "cell_type": "code",
      "execution_count": null,
      "metadata": {
        "id": "2RdVdXycaV8A"
      },
      "outputs": [],
      "source": [
        "df4 = df3.stack()\n",
        "df4\n"
      ]
    },
    {
      "cell_type": "code",
      "execution_count": null,
      "metadata": {
        "id": "TwDeME7URVsy"
      },
      "outputs": [],
      "source": [
        "type(df4)"
      ]
    },
    {
      "cell_type": "code",
      "execution_count": null,
      "metadata": {
        "id": "Ga_rzgHnaWAq"
      },
      "outputs": [],
      "source": [
        "df5 = df4.to_frame(name='values')\n",
        "\n",
        "df5\n"
      ]
    },
    {
      "cell_type": "code",
      "execution_count": null,
      "metadata": {
        "id": "fIR9BLASSGaK"
      },
      "outputs": [],
      "source": [
        "type(df5)"
      ]
    },
    {
      "cell_type": "code",
      "execution_count": null,
      "metadata": {
        "id": "gOzdwCSiSaCd"
      },
      "outputs": [],
      "source": [
        "df5.count()"
      ]
    },
    {
      "cell_type": "code",
      "execution_count": null,
      "metadata": {
        "id": "ZoB2U6k3RFBI"
      },
      "outputs": [],
      "source": [
        "\n",
        "index = pd.Index(range(29730))\n",
        "df6 = df5.reset_index()\n",
        "df6\n",
        "\n",
        "\n",
        "\n",
        "\n",
        "\n"
      ]
    },
    {
      "cell_type": "code",
      "execution_count": null,
      "metadata": {
        "id": "Xkjk-ghwKq1N"
      },
      "outputs": [],
      "source": [
        "df6.reset_index(drop=True, inplace=True)\n",
        "df6 = df5.reindex(index)"
      ]
    },
    {
      "cell_type": "code",
      "execution_count": null,
      "metadata": {
        "id": "oXYGXU03J8GI"
      },
      "outputs": [],
      "source": [
        "df7 = df6.rename(columns={'level_1': 'percent_change'})\n",
        "df7"
      ]
    },
    {
      "cell_type": "code",
      "execution_count": null,
      "metadata": {
        "id": "5P8U0rWuM1Ec"
      },
      "outputs": [],
      "source": [
        "print(df7.columns)\n"
      ]
    },
    {
      "cell_type": "code",
      "execution_count": null,
      "metadata": {
        "colab": {
          "base_uri": "https://localhost:8080/",
          "height": 1000
        },
        "id": "Q17UvMSoJ8P7",
        "outputId": "07fec9ba-577b-4210-9128-5c461c4b885b"
      },
      "outputs": [],
      "source": [
        "df7['percent_change'] = df7['percent_change'].replace(['quote.USD.percent_change_24h','quote.USD.percent_change_7d','quote.USD.percent_change_30d','quote.USD.percent_change_60d','quote.USD.percent_change_90d'],['24h','7d','30d','60d','90d'])\n",
        "df7"
      ]
    },
    {
      "cell_type": "code",
      "execution_count": null,
      "metadata": {
        "id": "NYepOS0TKHFv"
      },
      "outputs": [],
      "source": [
        "import seaborn as sns\n",
        "import matplotlib.pyplot as plt"
      ]
    },
    {
      "cell_type": "code",
      "execution_count": null,
      "metadata": {
        "id": "4AHVmJF2KHNs"
      },
      "outputs": [],
      "source": [
        "sns.catplot(x='percent_change', y='values', hue='name', data=df7, kind='point')"
      ]
    },
    {
      "cell_type": "code",
      "execution_count": null,
      "metadata": {
        "id": "YdFINrf8KHTl"
      },
      "outputs": [],
      "source": [
        "df10 = df[['name','quote.USD.price','timestamp']]\n",
        "df10 = df10.query(\"name == 'Bitcoin'\")\n",
        "df10"
      ]
    },
    {
      "cell_type": "code",
      "execution_count": null,
      "metadata": {
        "id": "2Q_2P-bzKHbY"
      },
      "outputs": [],
      "source": [
        "sns.set_theme(style=\"darkgrid\")\n",
        "\n",
        "sns.lineplot(x='timestamp', y='quote.USD.price', data = df10)"
      ]
    }
  ],
  "metadata": {
    "colab": {
      "provenance": []
    },
    "kernelspec": {
      "display_name": "Python 3",
      "name": "python3"
    },
    "language_info": {
      "name": "python"
    }
  },
  "nbformat": 4,
  "nbformat_minor": 0
}